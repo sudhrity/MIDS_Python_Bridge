{
 "cells": [
  {
   "cell_type": "markdown",
   "metadata": {},
   "source": [
    "# Modules\n",
    "\n",
    "We have been focusing on running short scripts that fit into a single notebook or `.py` file.  As programs get more complicated, it becomes impractical to keep everything in one file.  Large programming teams need to be organized, with different people in charge of different files.  Even if you are working on your own, you may want to divide your code into separate files in an intelligent way, so different functionality goes in different places.\n",
    "\n",
    "The main way that Python lets us use code in different places is with the `import` statement.  You have already used the `import` statement, for example, to import the string package, or NumPy. When you do this, you are bringing code that somebody else wrote into your own program.  Now we will see how to modularize your own code so that you can use it in other scripts or so other programmers can use it."
   ]
  },
  {
   "cell_type": "markdown",
   "metadata": {},
   "source": [
    "## Standalone Programs"
   ]
  },
  {
   "cell_type": "markdown",
   "metadata": {},
   "source": [
    "First, let's review standalone programs.  Remember that we can create a `.py` file by using any text editor. In the directory where this IPython notebook is saved is a file called \"helloworld.py\". We could open a terminal window and run this by typing the following. \n",
    "```\n",
    "python3 helloworld.py\n",
    "```\n",
    "In fact, an IPython notebook lets us do this as well. Use the following command."
   ]
  },
  {
   "cell_type": "code",
   "execution_count": null,
   "metadata": {
    "collapsed": false
   },
   "outputs": [],
   "source": [
    "!python3 helloworld.py"
   ]
  },
  {
   "cell_type": "markdown",
   "metadata": {},
   "source": [
    "A few notes before we continue: First, we added an exclamation mark before typing the command in order to invoke the shell program. This would be the same as typing `python3 helloworld.py` from the `command` line of this current folder.\n",
    "\n",
    "Second, this IPython notebook uses the command `python3`.  On your personal computer, you may just use the command `python` if version 3 is set as the default version of Python (instead of Python 2). We use the command `python3` to ensure that Python 3 is the one being used."
   ]
  },
  {
   "cell_type": "markdown",
   "metadata": {},
   "source": [
    "Let's look into what `helloworld.py` looks like. (Remember that the `cat` UNIX command prints out the contents of the file to the screen.)"
   ]
  },
  {
   "cell_type": "code",
   "execution_count": null,
   "metadata": {
    "collapsed": false
   },
   "outputs": [],
   "source": [
    "!cat helloworld.py"
   ]
  },
  {
   "cell_type": "markdown",
   "metadata": {},
   "source": [
    "Python will also give you access to what are called \"program arguments,\" or additional data that you would like to pass to the program from the command line. There is a second program called `showarguments.py` in this same folder."
   ]
  },
  {
   "cell_type": "code",
   "execution_count": null,
   "metadata": {
    "collapsed": false
   },
   "outputs": [],
   "source": [
    "!cat showarguments.py"
   ]
  },
  {
   "cell_type": "markdown",
   "metadata": {},
   "source": [
    "We have to import the `sys` module first; then we use `sys.argv` to get the arguments and print them.  Let's see what the program prints when we execute it in two ways."
   ]
  },
  {
   "cell_type": "code",
   "execution_count": null,
   "metadata": {
    "collapsed": false
   },
   "outputs": [],
   "source": [
    "!python3 showarguments.py"
   ]
  },
  {
   "cell_type": "code",
   "execution_count": null,
   "metadata": {
    "collapsed": false
   },
   "outputs": [],
   "source": [
    "!python3 showarguments.py firstArg secondArg thirdArg"
   ]
  },
  {
   "cell_type": "markdown",
   "metadata": {},
   "source": [
    "These are arguments that you can then use in your program, to customize the things that it does."
   ]
  },
  {
   "cell_type": "markdown",
   "metadata": {},
   "source": [
    "## Modules and the import Statement"
   ]
  },
  {
   "cell_type": "markdown",
   "metadata": {},
   "source": [
    "In Python, a module is just another name for a `.py` file; we use the word *module* when we import the file into another script.  To demonstrate this, let's create a more useful module, one that returns the weather report for Berkeley, California. In this directory, you will find the `weatherman.py` script.  It defines a `get_report` function that sends a request to openweathermap.org to get weather information for Berkeley. We have not covered sending requests over the Internet or dealing with the JSON file format, so this code may be a bit confusing for the time being."
   ]
  },
  {
   "cell_type": "code",
   "execution_count": null,
   "metadata": {
    "collapsed": false
   },
   "outputs": [],
   "source": [
    "!cat weatherman.py"
   ]
  },
  {
   "cell_type": "markdown",
   "metadata": {},
   "source": [
    "Now let's try importing our weatherman module into this notebook and using it to print the weather."
   ]
  },
  {
   "cell_type": "code",
   "execution_count": null,
   "metadata": {
    "collapsed": false
   },
   "outputs": [],
   "source": [
    "import weatherman\n",
    "\n",
    "print(weatherman.get_report())"
   ]
  },
  {
   "cell_type": "markdown",
   "metadata": {},
   "source": [
    "Notice that we actually used imports in three places: the first two instances can be found in the `weatherman.py` file itself. We imported the `urlopen` function from the u`rllib.request` module in order to make the request to the openweather.org servers. We then included the JSON module to enable us to create JSON objects from strings. We need this functionality to convert the response from the openweather.org servers to a set of dictionaries that we can navigate with Python. Then in this IPython notebook, we  imported the weatherman module from the `weatherman.py` file to use it above.\n",
    "\n",
    "The `import` statement makes it easy for us to use powerful modules that other people have written in our own applications. It also allows us to write our own modules and use the same code over and over again. That way we do not have to copy code into many places."
   ]
  },
  {
   "cell_type": "markdown",
   "metadata": {},
   "source": [
    "There are several ways to import an external module.\n",
    "\n",
    "### 1. Import a specific function directly from the external module"
   ]
  },
  {
   "cell_type": "code",
   "execution_count": null,
   "metadata": {
    "collapsed": false
   },
   "outputs": [],
   "source": [
    "from weatherman import get_report\n",
    "\n",
    "print(get_report())"
   ]
  },
  {
   "cell_type": "markdown",
   "metadata": {},
   "source": [
    "In this case, we imported the specific function that we need from the weatherman module.  Notice that we can then call it without writing \"weatherman\" in front of it, as though we defined it in the same script.  You should be careful when doing this, however.  If two different modules both have a function with the same name, you will have a conflict.\n",
    "\n",
    "### 2. Import the module name to avoid naming conflicts"
   ]
  },
  {
   "cell_type": "code",
   "execution_count": null,
   "metadata": {
    "collapsed": false
   },
   "outputs": [],
   "source": [
    "import weatherman\n",
    "\n",
    "print(weatherman.get_report())"
   ]
  },
  {
   "cell_type": "markdown",
   "metadata": {},
   "source": [
    "This is a safer way to import modules.  When we import the weatherman module as a whole, we are protected from potential naming conflicts because we can only access a method by writing the name of the module first. On the other hand, this strategy imports everything within the module `weatherman`, which may include things you do not want.\n",
    "\n",
    "### 3. Import only what you want from a module by renaming the function"
   ]
  },
  {
   "cell_type": "code",
   "execution_count": null,
   "metadata": {
    "collapsed": false
   },
   "outputs": [],
   "source": [
    "from weatherman import get_report as do_it\n",
    "\n",
    "print(do_it())"
   ]
  },
  {
   "cell_type": "markdown",
   "metadata": {},
   "source": [
    "Here, we import only what we need from the weatherman module (`get_report`) and then rename it (`to do_it`) to avoid any naming conflicts.  Be aware that renaming functions can make it harder to read your code; it is usually best to avoid this unless you really have a naming conflict."
   ]
  },
  {
   "cell_type": "markdown",
   "metadata": {},
   "source": [
    "## Note on Module Search Path"
   ]
  },
  {
   "cell_type": "markdown",
   "metadata": {},
   "source": [
    "When you use an `import` statement, Python has a list of places that it looks to find the module you want. First, Python will look at your current directory to see if there are any modules and packages there with the right name (more on packages in the next section). After that, Python will look at a set of directories that are defined in a special module: `sys.path`.\n",
    "\n",
    "We can take a look at what is in my computer's `sys.path` with the following code."
   ]
  },
  {
   "cell_type": "code",
   "execution_count": null,
   "metadata": {
    "collapsed": false
   },
   "outputs": [],
   "source": [
    "import sys\n",
    "for place in sys.path:\n",
    "    print(place)"
   ]
  },
  {
   "cell_type": "markdown",
   "metadata": {},
   "source": [
    "Python can find modules and packages in directories or even in zip files. Remember that  packages that are in the same directory have precedence over the system-included packages. We will go over how to create your own packages in the next section."
   ]
  }
 ],
 "metadata": {
  "kernelspec": {
   "display_name": "Python 3",
   "language": "python",
   "name": "python3"
  },
  "language_info": {
   "codemirror_mode": {
    "name": "ipython",
    "version": 3
   },
   "file_extension": ".py",
   "mimetype": "text/x-python",
   "name": "python",
   "nbconvert_exporter": "python",
   "pygments_lexer": "ipython3",
   "version": "3.5.0"
  }
 },
 "nbformat": 4,
 "nbformat_minor": 0
}
