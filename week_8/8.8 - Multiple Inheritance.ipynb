{
 "cells": [
  {
   "cell_type": "markdown",
   "metadata": {
    "collapsed": false
   },
   "source": [
    "# Multiple Inheritance"
   ]
  },
  {
   "cell_type": "markdown",
   "metadata": {},
   "source": [
    "In some programming languages, each class can only have one Parent.  This system is easy to understand and it leads to the familiar pyramid-shaped class hierachy.  It is worth briefly mentioning, however, that Python is actually more flexible than this.  A Python class can have multiple Parents, a scenario known as multiple inheritance.\n",
    "\n",
    "When a class has multiple parents, it inherits attributes from all of them.  Let's suppose that we separately created a Ticker class that displays a value in a nice large font.  The ticker doesn't have any machinery for simulating a process, or even any notion of history.\n",
    "\n",
    "We'll change our ARProcess to subclass both `Process` and `Ticker`."
   ]
  },
  {
   "cell_type": "code",
   "execution_count": 20,
   "metadata": {
    "collapsed": false
   },
   "outputs": [],
   "source": [
    "%matplotlib inline\n",
    "import numpy as np\n",
    "import matplotlib\n",
    "from IPython.core.display import HTML\n",
    "\n",
    "class Process(object):\n",
    "    def __init__(self, start_value = 0):\n",
    "        self.value = start_value\n",
    "        self.history = []\n",
    "        \n",
    "    def time_step(self):\n",
    "        self.history.append(self.value)\n",
    "    \n",
    "    def __str__(self):\n",
    "        return \"Process with current value \" + str(self.value)\n",
    "    \n",
    "    def simulate(self, steps = 20):\n",
    "        for i in range(steps):\n",
    "            self.time_step()\n",
    "            \n",
    "            \n",
    "class Ticker(object):\n",
    "    def __init__(self, value = 0):\n",
    "        self.value = value\n",
    "        \n",
    "    def display(self):\n",
    "        text = \"<h1>\" + str(self.value) + \"</h1>\"\n",
    "        return HTML(text)\n",
    "\n",
    "class ARProcess(Process, Ticker):\n",
    "    \n",
    "    def __init__(self, alpha = 0.5, sigma = 1, start_value = 0):\n",
    "        super().__init__(start_value)\n",
    "        self.alpha = alpha\n",
    "        self.sigma = sigma\n",
    "        \n",
    "    def time_step(self):\n",
    "        self.value = self.alpha * self.value + np.random.normal(scale = self.sigma)\n",
    "        super().time_step()"
   ]
  },
  {
   "cell_type": "code",
   "execution_count": 23,
   "metadata": {
    "collapsed": false
   },
   "outputs": [
    {
     "data": {
      "text/html": [
       "<h1>0</h1>"
      ],
      "text/plain": [
       "<IPython.core.display.HTML object>"
      ]
     },
     "execution_count": 23,
     "metadata": {},
     "output_type": "execute_result"
    }
   ],
   "source": [
    "p1 = ARProcess(alpha = .9)\n",
    "p1.display()"
   ]
  },
  {
   "cell_type": "code",
   "execution_count": 25,
   "metadata": {
    "collapsed": false
   },
   "outputs": [
    {
     "data": {
      "text/html": [
       "<h1>-3.1721920610265757</h1>"
      ],
      "text/plain": [
       "<IPython.core.display.HTML object>"
      ]
     },
     "execution_count": 25,
     "metadata": {},
     "output_type": "execute_result"
    }
   ],
   "source": [
    "p1.simulate(10)\n",
    "p1.display()"
   ]
  },
  {
   "cell_type": "markdown",
   "metadata": {},
   "source": [
    "Since our class has two parents, it includes the functionality of both.  We can call `simulate()` on it, or `display`.\n",
    "\n",
    "You might wonder how Python finds the right method to execute, if the method is not defined in our child class.  Essentially, Python will look for the method in each Parent class, starting from left to right.  In this case, `ARProcess` doesn't have a `display()` method, so Python first checks in `Process`, then in `Ticker`.\n",
    "\n",
    "Things can get more complicated if you have a large set of related classes.  To check where Python will look to find methods, you can call the `mro()` method on your subclass.  This stands for method resolution order."
   ]
  },
  {
   "cell_type": "code",
   "execution_count": 26,
   "metadata": {
    "collapsed": false
   },
   "outputs": [
    {
     "data": {
      "text/plain": [
       "[__main__.ARProcess, __main__.Process, __main__.Ticker, object]"
      ]
     },
     "execution_count": 26,
     "metadata": {},
     "output_type": "execute_result"
    }
   ],
   "source": [
    "ARProcess.mro()"
   ]
  }
 ],
 "metadata": {
  "kernelspec": {
   "display_name": "Python 3",
   "language": "python",
   "name": "python3"
  },
  "language_info": {
   "codemirror_mode": {
    "name": "ipython",
    "version": 3
   },
   "file_extension": ".py",
   "mimetype": "text/x-python",
   "name": "python",
   "nbconvert_exporter": "python",
   "pygments_lexer": "ipython3",
   "version": "3.4.3"
  }
 },
 "nbformat": 4,
 "nbformat_minor": 0
}
