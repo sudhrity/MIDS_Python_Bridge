{
 "cells": [
  {
   "cell_type": "markdown",
   "metadata": {
    "collapsed": false
   },
   "source": [
    "# More Class Inheritance\n",
    "\n",
    "Previously, we created a Process abstract base class, and subclassed it with BoundedLinearProcess."
   ]
  },
  {
   "cell_type": "code",
   "execution_count": 6,
   "metadata": {
    "collapsed": true
   },
   "outputs": [],
   "source": [
    "class Process:\n",
    "    def __init__(self, start_value = 0):\n",
    "        self.value = start_value\n",
    "        \n",
    "    def time_step(self):\n",
    "        pass\n",
    "    \n",
    "    def __str__(self):\n",
    "        return \"Process with current value \" + str(self.value)"
   ]
  },
  {
   "cell_type": "code",
   "execution_count": 36,
   "metadata": {
    "collapsed": true
   },
   "outputs": [],
   "source": [
    "class BoundedLinearProcess(Process):\n",
    "    def __init__(self, start_value = 0, velocity = 0):\n",
    "        super().__init__(start_value)\n",
    "        self.velocity = velocity\n",
    "    \n",
    "    def time_step(self):\n",
    "        self.value += self.velocity\n",
    "        if self.value < 0:\n",
    "            self.value = -self.value\n",
    "            self.velocity = -self.velocity\n",
    "        if self.value > 1:\n",
    "            self.value = 1 - (self.value - 1)\n",
    "            self.velocity = -self.velocity\n",
    "        super().time_step\n",
    "\n",
    "    def __str__(self):\n",
    "        return \" \" * int(self.value*20) + \"*\""
   ]
  },
  {
   "cell_type": "markdown",
   "metadata": {},
   "source": [
    "Let's make another process we can play around with.  An autoregressive process of order 1, also called an AR(1) process, is one in which the value at time t is given by, $x_t = \\alpha x_{t-1} + w_t$ where $\\alpha$ is a constant, $x_{t-1}$ is the previous value, and $w_t$ is a white noise term that is drawn from a normal distribution with standard deviation $\\sigma$."
   ]
  },
  {
   "cell_type": "code",
   "execution_count": 39,
   "metadata": {
    "collapsed": false
   },
   "outputs": [],
   "source": [
    "import numpy as np\n",
    "\n",
    "class ARProcess(Process):\n",
    "    \n",
    "    def __init__(self, alpha = 0.5, sigma = 1, start_value = 0):\n",
    "        super().__init__(start_value)\n",
    "        self.alpha = alpha\n",
    "        self.sigma = sigma\n",
    "        \n",
    "    def time_step(self):\n",
    "        self.value = self.alpha * self.value + np.random.normal(scale = self.sigma)\n",
    "        super().time_step()\n",
    "        \n",
    "    def __str__(self):\n",
    "        if self.value<0:\n",
    "            s = \" \" * int(5 * (self.value + 3)) + \"*\" + \" \" * int(-self.value * 5) + \"|\"\n",
    "        elif self.value== 0:\n",
    "            s = \" \" * 15 + \"*\"\n",
    "        else:\n",
    "            s = \" \" * 15 + \"|\" + \" \" * int(5 * self.value) + \"*\"\n",
    "        return s"
   ]
  },
  {
   "cell_type": "code",
   "execution_count": 30,
   "metadata": {
    "collapsed": false
   },
   "outputs": [
    {
     "name": "stdout",
     "output_type": "stream",
     "text": [
      "               *\n",
      "           *   |\n",
      "               |    *\n",
      "               | *\n",
      "           *   |\n",
      "         *     |\n",
      "               |  *\n",
      "          *    |\n",
      "        *      |\n",
      "              *|\n",
      "               |        *\n",
      "               |      *\n",
      "               |          *\n",
      "            *  |\n",
      "            *  |\n",
      "               |     *\n",
      "               |    *\n",
      "          *    |\n",
      "               | *\n",
      "               |  *\n"
     ]
    }
   ],
   "source": [
    "p2 = ARProcess()\n",
    "for i in range(20):\n",
    "    print(p2)\n",
    "    p2.time_step()"
   ]
  },
  {
   "cell_type": "markdown",
   "metadata": {},
   "source": [
    "Let's increase our AR term, alpha, to 0.9 and see the effect on the process.  This new process should show more persistence.  A high value tends to be followed by more high values and a low value tends to be followed by more low values."
   ]
  },
  {
   "cell_type": "code",
   "execution_count": null,
   "metadata": {
    "collapsed": true
   },
   "outputs": [],
   "source": [
    "p2 = ARProcess(alpha = 0.9)\n",
    "for i in range(20):\n",
    "    print(p2)\n",
    "    p2.time_step()"
   ]
  },
  {
   "cell_type": "markdown",
   "metadata": {},
   "source": [
    "As we've seen, we often want to simulate a process several times and observe the results.  Let's create a method to do this.  Since this is a common task for all Processes, we'll want to put it in the Process class."
   ]
  },
  {
   "cell_type": "code",
   "execution_count": 38,
   "metadata": {
    "collapsed": true
   },
   "outputs": [],
   "source": [
    "class Process:\n",
    "    def __init__(self, start_value = 0):\n",
    "        self.value = start_value\n",
    "        \n",
    "    def time_step(self):\n",
    "        pass\n",
    "    \n",
    "    def __str__(self):\n",
    "        return \"Process with current value \" + str(self.value)\n",
    "    \n",
    "    def simulate(self, steps = 20):\n",
    "        for i in range(steps):\n",
    "            print(self)\n",
    "            self.time_step()"
   ]
  },
  {
   "cell_type": "code",
   "execution_count": 40,
   "metadata": {
    "collapsed": false
   },
   "outputs": [],
   "source": [
    "p1 = BoundedLinearProcess(0,.1)\n",
    "p2 = ARProcess(alpha = 0.9)"
   ]
  },
  {
   "cell_type": "code",
   "execution_count": 42,
   "metadata": {
    "collapsed": false
   },
   "outputs": [
    {
     "name": "stdout",
     "output_type": "stream",
     "text": [
      "*\n",
      " *\n",
      "   *\n",
      "     *\n",
      "       *\n",
      "         *\n",
      "           *\n",
      "             *\n",
      "               *\n",
      "                 *\n",
      "                   *\n",
      "                  *\n",
      "                *\n",
      "              *\n",
      "            *\n",
      "          *\n",
      "        *\n",
      "      *\n",
      "    *\n",
      "  *\n"
     ]
    }
   ],
   "source": [
    "p1.simulate()"
   ]
  },
  {
   "cell_type": "code",
   "execution_count": 43,
   "metadata": {
    "collapsed": false
   },
   "outputs": [
    {
     "name": "stdout",
     "output_type": "stream",
     "text": [
      "               *\n",
      "         *     |\n",
      "          *    |\n",
      "             * |\n",
      "        *      |\n",
      "               |*\n",
      "          *    |\n",
      "               |  *\n",
      "               | *\n",
      "               |   *\n",
      "               |           *\n",
      "               |          *\n",
      "               |    *\n",
      "               |        *\n",
      "               |     *\n",
      "               |        *\n",
      "               |   *\n",
      "               |        *\n",
      "               |             *\n",
      "               |             *\n"
     ]
    }
   ],
   "source": [
    "p2.simulate()"
   ]
  },
  {
   "cell_type": "markdown",
   "metadata": {},
   "source": [
    "Notice that our simulate function works with both child classes.  In one case, self refers to a BoundedLinearProcess, in the other, to an ARProcess.  This is an example of what we call duck typing. Python doesn't care what class self refers to.  All that matters is that self has a time_step() method so that the simulate function can run.\n",
    "\n",
    "Let's make one more subclass to show how easy it is to reuse code with class inheritance.  A random walk process is a process of the form $x_t = x_{t-1} + w_t$.  Here, $w_t$ is again a white noise term drawn from a normal distribution with standard deviation $sigma$.\n",
    "\n",
    "Statistically speaking, a random walk is an example of what we call a non-stationary process.  A statistician would say that it is not an autoregressive process, but we can implement it by creating an AR(1) process with attribute `alpha = 1`."
   ]
  },
  {
   "cell_type": "code",
   "execution_count": 45,
   "metadata": {
    "collapsed": true
   },
   "outputs": [],
   "source": [
    "class RandomWalk(ARProcess):\n",
    "    def __init__(self, sigma = .5):\n",
    "        super().__init__(alpha = 1, sigma = sigma)"
   ]
  },
  {
   "cell_type": "code",
   "execution_count": 46,
   "metadata": {
    "collapsed": false
   },
   "outputs": [
    {
     "name": "stdout",
     "output_type": "stream",
     "text": [
      "               *\n",
      "               |  *\n",
      "               |          *\n",
      "               |           *\n",
      "               |           *\n",
      "               |               *\n",
      "               |                *\n",
      "               |                   *\n",
      "               |                 *\n",
      "               |              *\n",
      "               |              *\n",
      "               |              *\n",
      "               |             *\n",
      "               |            *\n",
      "               |            *\n",
      "               |               *\n",
      "               |                  *\n",
      "               |              *\n",
      "               |                *\n",
      "               |                *\n"
     ]
    }
   ],
   "source": [
    "p3 = RandomWalk()\n",
    "p3.simulate()"
   ]
  },
  {
   "cell_type": "markdown",
   "metadata": {},
   "source": [
    "The random walk process has no tendency to revert to any fixed mean.  It will eventually wander too far away from zero and our nice print statement won't work anymore.  Notice how easy it was to create this new class, utilizing all the machinery found in its parent classes."
   ]
  }
 ],
 "metadata": {
  "kernelspec": {
   "display_name": "Python 3",
   "language": "python",
   "name": "python3"
  },
  "language_info": {
   "codemirror_mode": {
    "name": "ipython",
    "version": 3
   },
   "file_extension": ".py",
   "mimetype": "text/x-python",
   "name": "python",
   "nbconvert_exporter": "python",
   "pygments_lexer": "ipython3",
   "version": "3.4.3"
  }
 },
 "nbformat": 4,
 "nbformat_minor": 0
}
